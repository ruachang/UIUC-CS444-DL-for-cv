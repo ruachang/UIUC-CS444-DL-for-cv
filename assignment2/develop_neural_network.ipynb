{
 "cells": [
  {
   "cell_type": "markdown",
   "metadata": {
    "id": "IWMWW8Ab_345"
   },
   "source": [
    "# (Optional) Colab Setup\n",
    "If you aren't using Colab, you can delete the following code cell. This is just to help students with mounting to Google Drive to access the other .py files and downloading the data, which is a little trickier on Colab than on your local machine using Jupyter. "
   ]
  },
  {
   "cell_type": "markdown",
   "metadata": {
    "id": "2cHqo6b1_Bzk"
   },
   "source": [
    "# Implement a Neural Network\n",
    "\n",
    "This notebook contains testing code to help you develop a neural network by implementing the forward pass and backpropagation algorithm in the `models/neural_net.py` file. \n",
    "\n",
    "You will implement your network in the class `NeuralNetwork` inside the file `models/neural_net.py` to represent instances of the network. The network parameters are stored in the instance variable `self.params` where keys are string parameter names and values are numpy arrays."
   ]
  },
  {
   "cell_type": "code",
   "execution_count": 84,
   "metadata": {
    "id": "nTt_CiWh_Bzm"
   },
   "outputs": [
    {
     "name": "stdout",
     "output_type": "stream",
     "text": [
      "The autoreload extension is already loaded. To reload it, use:\n",
      "  %reload_ext autoreload\n"
     ]
    }
   ],
   "source": [
    "import numpy as np\n",
    "\n",
    "# from models.neural_net import NeuralNetwork\n",
    "# Note: neural_net_solution folder does not exist. This is supposed to be a copy of the models/neural_net.py. This may help you to verify your implementation.\n",
    "from neural_net import NeuralNetwork\n",
    "\n",
    "\n",
    "# For auto-reloading external modules\n",
    "# See http://stackoverflow.com/questions/1907993/autoreload-of-modules-in-ipython\n",
    "%load_ext autoreload\n",
    "%autoreload 2\n",
    "\n",
    "def rel_error(x, y):\n",
    "    \"\"\"Returns relative error\"\"\"\n",
    "    return np.max(np.abs(x - y) / (np.maximum(1e-8, np.abs(x) + np.abs(y))))"
   ]
  },
  {
   "cell_type": "markdown",
   "metadata": {
    "id": "b5X9DO-5_Bzn"
   },
   "source": [
    "The cell below initializes a toy dataset and corresponding model which will allow you to check your forward and backward pass by using a numeric gradient check. Note that we set a random seed for repeatable experiments."
   ]
  },
  {
   "cell_type": "code",
   "execution_count": 112,
   "metadata": {
    "id": "358jAXcc_Bzn"
   },
   "outputs": [],
   "source": [
    "input_size = 4\n",
    "hidden_size = 10\n",
    "num_classes = 3\n",
    "num_inputs = 15\n",
    "optimizer = 'SGD'\n",
    "\n",
    "\n",
    "def init_toy_model(num_layers):\n",
    "    \"\"\"Initializes a toy model\"\"\"\n",
    "    np.random.seed(9)\n",
    "    hidden_sizes = [hidden_size] * (num_layers - 1)\n",
    "    return NeuralNetwork(input_size, hidden_sizes, num_classes, num_layers, optimizer)\n",
    "\n",
    "def init_toy_data():\n",
    "    \"\"\"Initializes a toy dataset\"\"\"\n",
    "    np.random.seed(9)\n",
    "    X = np.random.randn(num_inputs, input_size)\n",
    "    y = np.random.randn(num_inputs, num_classes)\n",
    "    return X, y\n"
   ]
  },
  {
   "cell_type": "markdown",
   "metadata": {
    "id": "zh_v9biP_Bzn"
   },
   "source": [
    "# Implement forward and backward pass\n",
    "\n",
    "The first thing you will do is implement the forward pass of your neural network. The forward pass should be implemented in the `forward` function. You can use helper functions like `linear`, `relu`, and `sigmoid` to help organize your code.\n",
    "\n",
    "Next, you will implement the backward pass using the backpropagation algorithm. Backpropagation will compute the gradient of the loss with respect to the model parameters `W1`, `b1`, ... etc. Use a sigmoid fuction with mse loss for loss calcuation. Fill in the code blocks in `NeuralNetwork.backward`. "
   ]
  },
  {
   "cell_type": "markdown",
   "metadata": {
    "id": "GjAwpT2z_Bzo"
   },
   "source": [
    "# Gradient  check\n",
    "\n",
    "If you have implemented your forward pass through the network correctly, you can use the following cell to debug your backward pass with a numeric gradient check. This function assumes that your gradient is divided by y.shape[0] * y.shape[1], where y is the first input to the backward function. You should use mse loss after the sigmoid layer for this gradient check. If your backward pass has been implemented correctly, the max relative error between your analytic solution and the numeric solution should be around 1e-7 or less for all parameters.\n"
   ]
  },
  {
   "cell_type": "code",
   "execution_count": 117,
   "metadata": {
    "id": "UZM47qUP_Bzo"
   },
   "outputs": [
    {
     "name": "stdout",
     "output_type": "stream",
     "text": [
      "W1 max relative error: 8.760971e-08\n",
      "b1 max relative error: 6.866175e-10\n",
      "W2 max relative error: 3.124941e-09\n",
      "b2 max relative error: 1.813309e-10\n",
      "W1 max relative error: 4.001882e-08\n",
      "b1 max relative error: 9.167005e-09\n",
      "W2 max relative error: 2.905011e-08\n",
      "b2 max relative error: 8.754421e-10\n",
      "W3 max relative error: 2.740952e-09\n",
      "b3 max relative error: 3.852252e-10\n",
      "W1 max relative error: 3.576200e-07\n",
      "b1 max relative error: 2.963421e-09\n",
      "W2 max relative error: 6.820597e-08\n",
      "b2 max relative error: 4.624271e-09\n",
      "W3 max relative error: 2.589016e-08\n",
      "b3 max relative error: 2.023740e-09\n",
      "W4 max relative error: 9.619314e-09\n",
      "b4 max relative error: 2.223423e-10\n",
      "W1 max relative error: 4.552642e-08\n",
      "b1 max relative error: 8.146830e-09\n",
      "W2 max relative error: 1.269329e-07\n",
      "b2 max relative error: 1.590510e-09\n",
      "W3 max relative error: 2.194944e-07\n",
      "b3 max relative error: 3.565703e-09\n",
      "W4 max relative error: 5.175667e-06\n",
      "b4 max relative error: 4.836786e-09\n",
      "W5 max relative error: 4.162575e-07\n",
      "b5 max relative error: 1.013300e-10\n",
      "W1 max relative error: 2.216608e-07\n",
      "b1 max relative error: 2.146391e-08\n",
      "W2 max relative error: 1.847861e-07\n",
      "b2 max relative error: 6.103612e-09\n",
      "W3 max relative error: 4.233292e-06\n",
      "b3 max relative error: 1.596709e-08\n",
      "W4 max relative error: 2.472735e-06\n",
      "b4 max relative error: 1.460334e-08\n",
      "W5 max relative error: 1.781816e-07\n",
      "b5 max relative error: 3.744370e-10\n",
      "W6 max relative error: 9.695436e-08\n",
      "b6 max relative error: 6.301996e-11\n",
      "W1 max relative error: 2.323220e-07\n",
      "b1 max relative error: 8.278527e-09\n",
      "W2 max relative error: 8.363997e-08\n",
      "b2 max relative error: 1.026690e-08\n",
      "W3 max relative error: 2.275798e-07\n",
      "b3 max relative error: 2.011702e-08\n",
      "W4 max relative error: 7.793231e-07\n",
      "b4 max relative error: 5.315526e-09\n",
      "W5 max relative error: 3.421698e-07\n",
      "b5 max relative error: 3.287476e-08\n",
      "W6 max relative error: 5.579912e-07\n",
      "b6 max relative error: 9.876045e-10\n",
      "W7 max relative error: 8.895812e-08\n",
      "b7 max relative error: 2.258000e-10\n",
      "W1 max relative error: 2.567012e-08\n",
      "b1 max relative error: 2.479449e-08\n",
      "W2 max relative error: 4.136787e-07\n",
      "b2 max relative error: 6.080654e-09\n",
      "W3 max relative error: 3.423788e-06\n",
      "b3 max relative error: 1.375103e-08\n",
      "W4 max relative error: 4.424579e-07\n",
      "b4 max relative error: 3.901335e-09\n",
      "W5 max relative error: 1.414166e-07\n",
      "b5 max relative error: 1.495781e-09\n",
      "W6 max relative error: 2.854171e-07\n",
      "b6 max relative error: 4.946883e-10\n",
      "W7 max relative error: 2.057539e-07\n",
      "b7 max relative error: 1.102852e-08\n",
      "W8 max relative error: 2.420881e-09\n",
      "b8 max relative error: 4.814556e-11\n",
      "W1 max relative error: 9.746078e-08\n",
      "b1 max relative error: 5.598674e-08\n",
      "W2 max relative error: 3.108445e-07\n",
      "b2 max relative error: 6.862172e-08\n",
      "W3 max relative error: 2.749218e-07\n",
      "b3 max relative error: 6.465978e-09\n",
      "W4 max relative error: 1.544820e-06\n",
      "b4 max relative error: 7.163804e-09\n",
      "W5 max relative error: 2.257894e-06\n",
      "b5 max relative error: 8.334050e-09\n",
      "W6 max relative error: 9.337758e-06\n",
      "b6 max relative error: 2.417793e-08\n",
      "W7 max relative error: 4.430246e-07\n",
      "b7 max relative error: 5.115869e-09\n",
      "W8 max relative error: 4.330725e-08\n",
      "b8 max relative error: 7.629428e-03\n",
      "W9 max relative error: 2.008502e-07\n",
      "b9 max relative error: 6.629259e-11\n",
      "W1 max relative error: 1.564580e-05\n",
      "b1 max relative error: 4.153479e-08\n",
      "W2 max relative error: 3.753155e-05\n",
      "b2 max relative error: 7.189611e-08\n",
      "W3 max relative error: 9.729081e-06\n",
      "b3 max relative error: 2.959788e-08\n",
      "W4 max relative error: 1.606189e-05\n",
      "b4 max relative error: 2.426618e-08\n",
      "W5 max relative error: 9.037070e-05\n",
      "b5 max relative error: 2.868787e-09\n",
      "W6 max relative error: 1.272986e-05\n",
      "b6 max relative error: 5.464798e-09\n",
      "W7 max relative error: 4.829063e-06\n",
      "b7 max relative error: 8.647203e-10\n",
      "W8 max relative error: 1.167734e-06\n",
      "b8 max relative error: 5.354160e-03\n",
      "W9 max relative error: 2.073330e-06\n",
      "b9 max relative error: 1.960891e-09\n",
      "W10 max relative error: 8.246984e-07\n",
      "b10 max relative error: 1.347597e-10\n"
     ]
    }
   ],
   "source": [
    "from copy import deepcopy\n",
    "\n",
    "from utils.gradient_check import eval_numerical_gradient\n",
    "\n",
    "X, y = init_toy_data()\n",
    "\n",
    "\n",
    "def f(W):\n",
    "    output = net.forward(X)\n",
    "    return net.backward(y)\n",
    "\n",
    "for num in [2, 3, 4, 5, 6, 7, 8, 9, 10]:\n",
    "    net = init_toy_model(num)\n",
    "    net.forward(X)\n",
    "    output = deepcopy(net.outputs)\n",
    "    net.backward(y)\n",
    "    gradients = deepcopy(net.gradients)\n",
    "\n",
    "    # for param_name in [\"W1\"]:\n",
    "    for param_name in net.params:\n",
    "        # print('Running numeric gradient check with %s' % param_name)\n",
    "        \n",
    "        param_grad_num = eval_numerical_gradient(f, net.params[param_name], verbose=False)\n",
    "        # print(\"groud truth: \", (param_grad_num - gradients[param_name]) / gradients[param_name])\n",
    "        # print((X - output[\"0\"]) / output[\"0\"])\n",
    "        print('%s max relative error: %e' % (param_name, rel_error(param_grad_num, gradients[param_name])))"
   ]
  },
  {
   "cell_type": "code",
   "execution_count": 120,
   "metadata": {},
   "outputs": [
    {
     "data": {
      "text/plain": [
       "(15, 4)"
      ]
     },
     "execution_count": 120,
     "metadata": {},
     "output_type": "execute_result"
    }
   ],
   "source": [
    "X.shape\n"
   ]
  }
 ],
 "metadata": {
  "colab": {
   "provenance": []
  },
  "kernelspec": {
   "display_name": "Python 3",
   "language": "python",
   "name": "python3"
  },
  "language_info": {
   "codemirror_mode": {
    "name": "ipython",
    "version": 3
   },
   "file_extension": ".py",
   "mimetype": "text/x-python",
   "name": "python",
   "nbconvert_exporter": "python",
   "pygments_lexer": "ipython3",
   "version": "3.9.0"
  }
 },
 "nbformat": 4,
 "nbformat_minor": 1
}
